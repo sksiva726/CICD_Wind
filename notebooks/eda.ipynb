{
 "cells": [
  {
   "cell_type": "markdown",
   "id": "fcd69f21",
   "metadata": {},
   "source": [
    "# Wind Turbine Data EDA\n",
    "This notebook explores the wind turbine sensor dataset, visualizes key features, and investigates relationships for power prediction."
   ]
  },
  {
   "cell_type": "code",
   "execution_count": null,
   "id": "29d01379",
   "metadata": {},
   "outputs": [],
   "source": [
    "# Import libraries\n",
    "import pandas as pd\n",
    "import matplotlib.pyplot as plt\n",
    "import seaborn as sns\n",
    "\n",
    "# Load data\n",
    "file_path = '../data/wind_turbine_data.csv'\n",
    "df = pd.read_csv(file_path)\n",
    "df.head()"
   ]
  },
  {
   "cell_type": "markdown",
   "id": "ea7f5a7c",
   "metadata": {},
   "source": [
    "## Data Overview\n",
    "Check the shape, columns, and missing values in the dataset."
   ]
  },
  {
   "cell_type": "code",
   "execution_count": null,
   "id": "27eb05f4",
   "metadata": {},
   "outputs": [],
   "source": [
    "# Data overview\n",
    "print('Shape:', df.shape)\n",
    "print('Columns:', df.columns.tolist())\n",
    "print('Missing values:\\n', df.isnull().sum())\n",
    "df.describe()"
   ]
  },
  {
   "cell_type": "markdown",
   "id": "9ebbe3e5",
   "metadata": {},
   "source": [
    "## Feature Distributions\n",
    "Visualize the distribution of key sensor features and the target variable (Power)."
   ]
  },
  {
   "cell_type": "code",
   "execution_count": null,
   "id": "ceed9556",
   "metadata": {},
   "outputs": [],
   "source": [
    "# Plot distributions\n",
    "features = ['Wind_Speed', 'Ambient_Air_temp', 'Bearing_Temp', 'GearTemp', 'GeneratorTemp', 'GearBoxSumpTemp', 'BladePitchAngle', 'Hub_Speed', 'Generator_Speed', 'Power']\n",
    "df[features].hist(bins=30, figsize=(16, 10))\n",
    "plt.tight_layout()\n",
    "plt.show()"
   ]
  },
  {
   "cell_type": "markdown",
   "id": "97d17afe",
   "metadata": {},
   "source": [
    "## Correlation Analysis\n",
    "Explore correlations between features and Power."
   ]
  },
  {
   "cell_type": "code",
   "execution_count": null,
   "id": "7225e0f9",
   "metadata": {},
   "outputs": [],
   "source": [
    "# Correlation heatmap\n",
    "corr = df[features].corr()\n",
    "plt.figure(figsize=(10, 8))\n",
    "sns.heatmap(corr, annot=True, cmap='coolwarm')\n",
    "plt.title('Feature Correlation Heatmap')\n",
    "plt.show()"
   ]
  },
  {
   "cell_type": "markdown",
   "id": "536a5cbf",
   "metadata": {},
   "source": [
    "## Power vs. Wind Speed\n",
    "Visualize the relationship between wind speed and power output."
   ]
  },
  {
   "cell_type": "code",
   "execution_count": null,
   "id": "aaaa5487",
   "metadata": {},
   "outputs": [],
   "source": [
    "# Power vs Wind Speed\n",
    "plt.figure(figsize=(8, 5))\n",
    "sns.scatterplot(x='Wind_Speed', y='Power', data=df, alpha=0.3)\n",
    "plt.title('Power vs Wind Speed')\n",
    "plt.xlabel('Wind Speed')\n",
    "plt.ylabel('Power')\n",
    "plt.show()"
   ]
  },
  {
   "cell_type": "markdown",
   "id": "3caa4cf6",
   "metadata": {},
   "source": [
    "## Turbine Performance\n",
    "Compare power output across different turbines."
   ]
  },
  {
   "cell_type": "code",
   "execution_count": null,
   "id": "14b665cd",
   "metadata": {},
   "outputs": [],
   "source": [
    "# Power by Turbine\n",
    "if 'TurbineName' in df.columns:\n",
    "    plt.figure(figsize=(10, 5))\n",
    "    sns.boxplot(x='TurbineName', y='Power', data=df)\n",
    "    plt.title('Power Output by Turbine')\n",
    "    plt.xticks(rotation=45)\n",
    "    plt.show()"
   ]
  }
 ],
 "metadata": {
  "language_info": {
   "name": "python"
  }
 },
 "nbformat": 4,
 "nbformat_minor": 5
}
